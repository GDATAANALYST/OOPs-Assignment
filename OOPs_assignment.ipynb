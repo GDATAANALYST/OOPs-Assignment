{
  "nbformat": 4,
  "nbformat_minor": 0,
  "metadata": {
    "colab": {
      "provenance": []
    },
    "kernelspec": {
      "name": "python3",
      "display_name": "Python 3"
    },
    "language_info": {
      "name": "python"
    }
  },
  "cells": [
    {
      "cell_type": "markdown",
      "source": [
        "# 1. What are the five key concepts of Object-Oriented Programming (OOP)?"
      ],
      "metadata": {
        "id": "7qgT_ur0a1Xc"
      }
    },
    {
      "cell_type": "markdown",
      "source": [
        "The five key concepts of Object Oriented Programming (OOP) in python are as follows :     \n",
        "\n",
        "\n",
        "*   Inheritance : Allows a class to inherit properties and functions from another class. This helps to reuse code and develop a hierarchical structure among classes .\n",
        "*   Encapsulation : Bundles data anad methods into a class , protecting data by limiting direct access.\n",
        "*   Polymorphism : Allows objects of different classes to be treated as objects of a commonn base class. This allows code to work with objects without knowing their exact types.\n",
        "*   Abstraction : Hides complex details from users and provides them with the flexibility to change things.\n",
        "*   Multiple Inheritance : Aloows a subclass to inherit attributes and methods from multiple base class.\n",
        "\n",
        "\n",
        "\n",
        "\n",
        "\n",
        "\n",
        "\n",
        "\n"
      ],
      "metadata": {
        "id": "-Xo-OhJjbIlR"
      }
    },
    {
      "cell_type": "markdown",
      "source": [
        "# 2. Write a Python class for a `Car` with attributes for `make`, `model`, and `year`. Include a method to display the car's information."
      ],
      "metadata": {
        "id": "IqhKxVa87K7f"
      }
    },
    {
      "cell_type": "code",
      "execution_count": null,
      "metadata": {
        "id": "79YbiAM_axV7"
      },
      "outputs": [],
      "source": [
        "class Car:\n",
        "  def __init__(self, make, model , year):\n",
        "    self.make=make\n",
        "    self.model= model\n",
        "    self.year=year\n",
        "\n",
        "  def disp_car_info(self):\n",
        "    print(f\"The car is  {self.make}, {self.model}, {self.year}\")\n"
      ]
    },
    {
      "cell_type": "code",
      "source": [
        "car1=Car(\"Toyota\", \"Corolla\", 2023)\n",
        "car1.disp_car_info()"
      ],
      "metadata": {
        "colab": {
          "base_uri": "https://localhost:8080/"
        },
        "id": "W3XFnPPz7mNZ",
        "outputId": "afe745d7-447e-4d09-8c74-81728d906b71"
      },
      "execution_count": null,
      "outputs": [
        {
          "output_type": "stream",
          "name": "stdout",
          "text": [
            "The car is  Toyota, Corolla, 2023\n"
          ]
        }
      ]
    },
    {
      "cell_type": "markdown",
      "source": [
        "# 3. Explain the difference between instance methods and class methods. Provide an example of each."
      ],
      "metadata": {
        "id": "ib72FOEn829s"
      }
    },
    {
      "cell_type": "markdown",
      "source": [
        "In python , the main difference between instance methods and class methods is that instance methods are bound to an object's instance, while class methods are bound to the class itself"
      ],
      "metadata": {
        "id": "gy9GSQhH9ArE"
      }
    },
    {
      "cell_type": "markdown",
      "source": [
        "\n",
        "\n",
        "*   Instance methods: These methods are created from a specific object and can  access and modify instance-level data. They require a class instance and can access the instance through self method.\n",
        "*   Class methods : These methods are bound to the class itself and can access and modify class-level data. They don't require a class instance and can access the class through cls. Class methods are marked with the (@classmethod) decorator.\n",
        "\n",
        "\n"
      ],
      "metadata": {
        "id": "2PYne83aBi_b"
      }
    },
    {
      "cell_type": "code",
      "source": [
        "# instance methods:\n",
        "class Circle:\n",
        "  def __init__(self, radius):\n",
        "    self.radius=radius\n",
        "\n",
        "  def area(self):\n",
        "    return 3.14*self.radius**2"
      ],
      "metadata": {
        "id": "QfJGulqvBigN"
      },
      "execution_count": null,
      "outputs": []
    },
    {
      "cell_type": "code",
      "source": [
        "cir=Circle(5)\n",
        "cir.area()"
      ],
      "metadata": {
        "colab": {
          "base_uri": "https://localhost:8080/"
        },
        "id": "C83S-fgY81lx",
        "outputId": "08487438-9090-487a-cbab-8339fba2fbec"
      },
      "execution_count": null,
      "outputs": [
        {
          "output_type": "execute_result",
          "data": {
            "text/plain": [
              "78.5"
            ]
          },
          "metadata": {},
          "execution_count": 12
        }
      ]
    },
    {
      "cell_type": "code",
      "source": [
        "# class methods:\n",
        "class Circle:\n",
        "  pi=3.14\n",
        "  def __init__(self, radius):\n",
        "    self.radius=radius\n",
        "\n",
        "  @classmethod\n",
        "  def area(cls, radius):\n",
        "    return cls.pi*radius**2"
      ],
      "metadata": {
        "id": "ApGESe9IDtRT"
      },
      "execution_count": null,
      "outputs": []
    },
    {
      "cell_type": "code",
      "source": [
        "cir1=Circle(5)\n",
        "cir1.area()"
      ],
      "metadata": {
        "colab": {
          "base_uri": "https://localhost:8080/"
        },
        "id": "jXCztbuGDy_B",
        "outputId": "4000cd8c-5221-46f1-99e7-cc323792e8ac"
      },
      "execution_count": null,
      "outputs": [
        {
          "output_type": "execute_result",
          "data": {
            "text/plain": [
              "78.5"
            ]
          },
          "metadata": {},
          "execution_count": 13
        }
      ]
    },
    {
      "cell_type": "markdown",
      "source": [
        "# 4. How does Python implement method overloading? Give an example."
      ],
      "metadata": {
        "id": "zITnFEg9D-Zv"
      }
    },
    {
      "cell_type": "markdown",
      "source": [
        "Two or more methods have the same name but different numbers of parameters or different types of parameters or both . These methods are called as overloaded methods and this is called as method overloading."
      ],
      "metadata": {
        "id": "ufF0RcWYEVTG"
      }
    },
    {
      "cell_type": "code",
      "source": [
        "# example:\n",
        "def product(a,b,c):\n",
        "  p=a*b*c\n",
        "  print(p)\n",
        "\n",
        "def product(a,b,c,d):\n",
        "  p=a*b*c*d\n",
        "  print(p)"
      ],
      "metadata": {
        "id": "7oVviFMQEFBc"
      },
      "execution_count": null,
      "outputs": []
    },
    {
      "cell_type": "code",
      "source": [
        "product(4,3,2,1)"
      ],
      "metadata": {
        "colab": {
          "base_uri": "https://localhost:8080/"
        },
        "id": "pvbsda5dFDqG",
        "outputId": "b97ec3e9-2c76-4a9c-842a-c9c421f91164"
      },
      "execution_count": null,
      "outputs": [
        {
          "output_type": "stream",
          "name": "stdout",
          "text": [
            "24\n"
          ]
        }
      ]
    },
    {
      "cell_type": "code",
      "source": [
        "product(4,5,6)# it will give error because with the same name you have derived 2 functions. in a single class\n",
        "# so, the class will give the first priority to the second instance or the function which you have called ."
      ],
      "metadata": {
        "colab": {
          "base_uri": "https://localhost:8080/",
          "height": 141
        },
        "id": "Py0UY8U_FtbA",
        "outputId": "0b9724f2-7ac9-47d2-bc57-d6e01163363c"
      },
      "execution_count": null,
      "outputs": [
        {
          "output_type": "error",
          "ename": "TypeError",
          "evalue": "product() missing 1 required positional argument: 'd'",
          "traceback": [
            "\u001b[0;31m---------------------------------------------------------------------------\u001b[0m",
            "\u001b[0;31mTypeError\u001b[0m                                 Traceback (most recent call last)",
            "\u001b[0;32m<ipython-input-16-87a3787f4acd>\u001b[0m in \u001b[0;36m<cell line: 1>\u001b[0;34m()\u001b[0m\n\u001b[0;32m----> 1\u001b[0;31m \u001b[0mproduct\u001b[0m\u001b[0;34m(\u001b[0m\u001b[0;36m4\u001b[0m\u001b[0;34m,\u001b[0m\u001b[0;36m5\u001b[0m\u001b[0;34m,\u001b[0m\u001b[0;36m6\u001b[0m\u001b[0;34m)\u001b[0m\u001b[0;34m\u001b[0m\u001b[0;34m\u001b[0m\u001b[0m\n\u001b[0m",
            "\u001b[0;31mTypeError\u001b[0m: product() missing 1 required positional argument: 'd'"
          ]
        }
      ]
    },
    {
      "cell_type": "markdown",
      "source": [
        "# 5. What are the three types of access modifiers in Python? How are they denoted?\n"
      ],
      "metadata": {
        "id": "YSD4-FPIGKLn"
      }
    },
    {
      "cell_type": "markdown",
      "source": [
        "Python has 3 types of access modifiers : public, protected and private .\n",
        "\n",
        "\n",
        "1.   Public : Members defined in a public class can be accessed from anywhere and usually the codes which you will write by default are in the form of public (note: But, you shouldnot give a single '_' in it).\n",
        "2.   Protected : Members which are defined in this particular class can only be accessed from within the main class and its subclass. (Here, inorder to protect a code you have to give a single underscore in a particular function '_').\n",
        "3.   Private : Members defined in a private class can only be accessed by class members .(inorder to convert a code to private you have to cover the code with double underscores'__').\n",
        "\n"
      ],
      "metadata": {
        "id": "RnjR2S5pGZv5"
      }
    },
    {
      "cell_type": "markdown",
      "source": [
        "# 6. Describe the five types of inheritance in Python. Provide a simple example of multiple inheritance."
      ],
      "metadata": {
        "id": "1QriVBeXIByI"
      }
    },
    {
      "cell_type": "markdown",
      "source": [
        "* Single inheritance : Single inheritance enables a derived class to inherit properties from a single parent class,thus enabling code reusability and the addition of new features to existing code."
      ],
      "metadata": {
        "id": "UMA-KBljID8L"
      }
    },
    {
      "cell_type": "code",
      "source": [
        "class Parent:\n",
        "  def func1(self):\n",
        "    print(\"This function is in parent class.\")\n",
        "\n",
        "class Child(Parent):\n",
        "  def func2(self):\n",
        "    print(\"This function is in child class.\")"
      ],
      "metadata": {
        "id": "Xv-eyZPlGPfW"
      },
      "execution_count": null,
      "outputs": []
    },
    {
      "cell_type": "markdown",
      "source": [
        "* Multiple inheritance : When a class can be derived from more than one class this type of inheritance is called as multiple inheritance ."
      ],
      "metadata": {
        "id": "pTbNoR5cIuap"
      }
    },
    {
      "cell_type": "code",
      "source": [
        "#Base class:\n",
        "class Mother:\n",
        "  mothername=\"\"\n",
        "\n",
        "  def mother(self):\n",
        "    print(self.mothername)\n",
        "\n",
        "#Base class2:\n",
        "class Father:\n",
        "  fathername=\"\"\n",
        "\n",
        "  def father(self):\n",
        "    print(self.fathername)\n",
        "\n",
        "#Derived class:\n",
        "class Son(Mother,Father):\n",
        "  def parents(self):\n",
        "    print(\"Father : \", self.fathername)\n",
        "    print(\"Mother : \", self.mothername)\n",
        "\n",
        "#output code\n",
        "son1=Son()\n",
        "son1.fathername=\"Srinu\"\n",
        "son1.mothername=\"Meena\"\n",
        "son1.parents()"
      ],
      "metadata": {
        "colab": {
          "base_uri": "https://localhost:8080/"
        },
        "id": "pbv5_pBOJFJ9",
        "outputId": "c4f779ce-fb23-47f8-e50e-655babe8571a"
      },
      "execution_count": null,
      "outputs": [
        {
          "output_type": "stream",
          "name": "stdout",
          "text": [
            "Father :  Srinu\n",
            "Mother :  Meena\n"
          ]
        }
      ]
    },
    {
      "cell_type": "markdown",
      "source": [
        "* Multilevel inheritance : In multilevel inheritance , features of the base class and the derrived class are further inherited into the new derived class ."
      ],
      "metadata": {
        "id": "UmgdfTV0QSHL"
      }
    },
    {
      "cell_type": "markdown",
      "source": [
        "* Hierarchical Inheritance: When more than one derived class are created from a single base this type of inheritance is called hierarchical inheritance."
      ],
      "metadata": {
        "id": "Vt-maHtJXO5f"
      }
    },
    {
      "cell_type": "markdown",
      "source": [
        "* Hybrid Inheritance : Inheritance consisiting of multiple types of inheritance is called hybrid Inheritance."
      ],
      "metadata": {
        "id": "Aq3KUraNXl4p"
      }
    },
    {
      "cell_type": "markdown",
      "source": [
        "# 7. What is the Method Resolution Order (MRO) in Python? How can you retrieve it programmatically?"
      ],
      "metadata": {
        "id": "U8qzwd3PX08m"
      }
    },
    {
      "cell_type": "markdown",
      "source": [
        "Method Resolution Order(MRO) it denotes the way a programming language resolves a method or attribute. Python supports classes inheriting from other classes. The class being inherited is called the Parent or Superclass, while the class that inherits is called the Child or Subclass. In python, method resolution order defines the order in which the base classes are searched when executing a method. First, the method or attribute is searched within a class and then it follows the order we specified while inheriting. This order is also called Linearization of a class and set of rules are called MRO(Method Resolution Order)."
      ],
      "metadata": {
        "id": "NynIhbUOX2rU"
      }
    },
    {
      "cell_type": "code",
      "source": [
        "#Example:\n",
        "class A:\n",
        "    def myname(self):\n",
        "        print(\"I am a class A\")\n",
        "\n",
        "class B(A):\n",
        "    def myname(self):\n",
        "        print(\"I am a class B\")\n",
        "\n",
        "class C(A):\n",
        "    def myname(self):\n",
        "        print(\"I am a class C\")\n",
        "c = C()\n",
        "print(c.myname())"
      ],
      "metadata": {
        "colab": {
          "base_uri": "https://localhost:8080/"
        },
        "id": "85Bw72e3ZMOG",
        "outputId": "870c689e-7323-4eee-f62b-fc63241c0384"
      },
      "execution_count": null,
      "outputs": [
        {
          "output_type": "stream",
          "name": "stdout",
          "text": [
            "I am a class C\n",
            "None\n"
          ]
        }
      ]
    },
    {
      "cell_type": "markdown",
      "source": [
        "# 8. Create an abstract base class `Shape` with an abstract method `area()`. Then create two subclasses\n",
        "`Circle` and `Rectangle' that implement the 'area()' method."
      ],
      "metadata": {
        "id": "_wh-qA8xZUib"
      }
    },
    {
      "cell_type": "code",
      "source": [
        "class Shape():\n",
        "  def area(self):\n",
        "    pass\n",
        "\n",
        "class Circle(Shape):\n",
        "  def __init__(self,radius):\n",
        "    self.radius=radius\n",
        "\n",
        "  def area(self):\n",
        "    return 3.14 * self.radius**2\n",
        "\n",
        "class Rectangle(Shape):\n",
        "\n",
        "  def __init__(self,height,width):\n",
        "      self.height=height\n",
        "      self.width=width\n",
        "\n",
        "  def area(self):\n",
        "    return self.height*self.width\n",
        "\n",
        "\n",
        "rectangle=Rectangle(4,5)\n",
        "rectangle.area()"
      ],
      "metadata": {
        "colab": {
          "base_uri": "https://localhost:8080/"
        },
        "id": "XnBSNGNIZnKH",
        "outputId": "38aece1f-cea3-4443-dd41-e746305ff536"
      },
      "execution_count": null,
      "outputs": [
        {
          "output_type": "execute_result",
          "data": {
            "text/plain": [
              "20"
            ]
          },
          "metadata": {},
          "execution_count": 26
        }
      ]
    },
    {
      "cell_type": "code",
      "source": [
        "cir=Circle(4)\n",
        "cir.area()"
      ],
      "metadata": {
        "colab": {
          "base_uri": "https://localhost:8080/"
        },
        "id": "r4h_DS9MbZr3",
        "outputId": "0592f818-49c4-4816-844d-376808a70f96"
      },
      "execution_count": null,
      "outputs": [
        {
          "output_type": "execute_result",
          "data": {
            "text/plain": [
              "50.24"
            ]
          },
          "metadata": {},
          "execution_count": 28
        }
      ]
    },
    {
      "cell_type": "markdown",
      "source": [
        "# 9. Demonstrate polymorphism by creating a function that can work with different shape objects to calculate and print their areas."
      ],
      "metadata": {
        "id": "F7gTivfGbm9D"
      }
    },
    {
      "cell_type": "code",
      "source": [
        "class Shape():\n",
        "  def perimeter(self):\n",
        "    pass\n",
        "\n",
        "class Circle(Shape):\n",
        "  def __init__(self,radius):\n",
        "    self.radius=radius\n",
        "\n",
        "  def area(self):\n",
        "    return 3.14*self.radius**2\n",
        "\n",
        "class Square(Shape):\n",
        "  def __init__(self,a):\n",
        "    self.a = a\n",
        "\n",
        "  def area(self):\n",
        "    return (self.a * self.a)\n",
        "\n",
        "class Rectangle(Shape):\n",
        "  def __init__(self,height,width):\n",
        "    self.height=height\n",
        "    self.width=width\n",
        "\n",
        "  def area(self):\n",
        "    return self.height*self.width\n",
        "\n",
        "\n",
        "#polymorphism function to calculate and print area:\n",
        "def print_area(shape : Shape):\n",
        "  print(shape.area())\n",
        "\n"
      ],
      "metadata": {
        "id": "3tbNRGaBbsEH"
      },
      "execution_count": null,
      "outputs": []
    },
    {
      "cell_type": "code",
      "source": [
        "circle =Circle(5)\n",
        "rect=Rectangle(5,29)\n",
        "sqr=Square(73)"
      ],
      "metadata": {
        "id": "fY4SjI3leNhC"
      },
      "execution_count": null,
      "outputs": []
    },
    {
      "cell_type": "code",
      "source": [
        "print(\"Circle area: \")\n",
        "print_area(circle)\n",
        "print(\"Rectangle area: \")\n",
        "print_area(rect)\n",
        "print(\"Square area: \")\n",
        "print_area(sqr)"
      ],
      "metadata": {
        "colab": {
          "base_uri": "https://localhost:8080/"
        },
        "id": "ujjM0qfieeyB",
        "outputId": "a526c9de-9bdb-4927-f775-c261b7dcc4ce"
      },
      "execution_count": null,
      "outputs": [
        {
          "output_type": "stream",
          "name": "stdout",
          "text": [
            "Circle area: \n",
            "78.5\n",
            "Rectangle area: \n",
            "145\n",
            "Square area: \n",
            "5329\n"
          ]
        }
      ]
    },
    {
      "cell_type": "markdown",
      "source": [
        "# 10. Implement encapsulation in a `BankAccount` class with private attributes for `balance` and `account_number' Include methods for deposit, withdrawal, and balance inquiry"
      ],
      "metadata": {
        "id": "VvDIzcP2e7aX"
      }
    },
    {
      "cell_type": "code",
      "source": [
        "class Bankacc():\n",
        "  def __init__(self,balance,account_number):\n",
        "    self.__balance=balance\n",
        "    self.__account_number=account_number\n",
        "\n",
        "  def deposit(self,amount):\n",
        "    self.__balance = self.__balance + self.amount\n",
        "\n",
        "  def withdraw(self,amount):\n",
        "    if self.balance >= self.amount:\n",
        "      self.balance = self.balance - self.amount\n",
        "      print(f\"{amount} is withdrawn from your account\")\n",
        "    else:\n",
        "      print(\"Invalid input !!! Insufficient Funds.\")\n",
        "\n",
        "  def balance_inquiry(self):\n",
        "    return self.balance\n",
        "\n",
        "  def get_balance(self):\n",
        "    return self.__balance\n",
        "\n",
        "  def get_account_number(self):\n",
        "    return self.__account_number\n",
        "\n",
        "\n"
      ],
      "metadata": {
        "id": "kHS3n1-FfCkC"
      },
      "execution_count": null,
      "outputs": []
    },
    {
      "cell_type": "code",
      "source": [
        "acc=Bankacc(100000,89236562376)\n",
        "print(\"The available balance in your account is \", acc.get_balance())\n",
        "print(\"Your account number is \", acc.get_account_number())"
      ],
      "metadata": {
        "id": "ftX9wHkvhG17",
        "colab": {
          "base_uri": "https://localhost:8080/"
        },
        "outputId": "e67be04e-6fce-4c6d-dbbe-f1479c1d2302"
      },
      "execution_count": null,
      "outputs": [
        {
          "output_type": "stream",
          "name": "stdout",
          "text": [
            "The available balance in your account is  100000\n",
            "Your account number is  89236562376\n"
          ]
        }
      ]
    },
    {
      "cell_type": "markdown",
      "source": [
        "#11. Write a class that overrides the `__str__` and `__add__` magic methods. What will these methods allow you to do?"
      ],
      "metadata": {
        "id": "wlZPEuYoiXYu"
      }
    },
    {
      "cell_type": "markdown",
      "source": [
        "The __str__ and __add__ magic methods allows you to customize how an object is represented as a string and how two objects of the class are added together, respectively.\n",
        "\n",
        "\n",
        "\n",
        "*   __str__(self): Allows you to define the string representation of the object which is returned whe str(obj) is called or when the object is printed .\n",
        "*   __add__(self,other) : Allows you to define how objects of your class behave when the + operator is used between two objects (or between the object and another type).\n",
        "\n"
      ],
      "metadata": {
        "id": "e92GWXuEOhLG"
      }
    },
    {
      "cell_type": "code",
      "source": [
        "class CustomNumber:\n",
        "    def __init__(self, value):\n",
        "        self.value = value\n",
        "\n",
        "    def __str__(self):\n",
        "        return f\"CustomNumber({self.value})\"\n",
        "\n",
        "    def __add__(self, other):\n",
        "        if isinstance(other, CustomNumber):\n",
        "            return CustomNumber(self.value + other.value)\n",
        "        return NotImplemented\n",
        "\n",
        "\n",
        "num1 = CustomNumber(5)\n",
        "num2 = CustomNumber(10)\n",
        "print(num1)\n",
        "num3 = num1 + num2\n",
        "print(num3)\n",
        "\n"
      ],
      "metadata": {
        "id": "XsisMBpsiclL",
        "colab": {
          "base_uri": "https://localhost:8080/"
        },
        "outputId": "a4c24a5a-8d02-4a4f-ae69-93da9650056c"
      },
      "execution_count": null,
      "outputs": [
        {
          "output_type": "stream",
          "name": "stdout",
          "text": [
            "CustomNumber(5)\n",
            "CustomNumber(15)\n"
          ]
        }
      ]
    },
    {
      "cell_type": "markdown",
      "source": [
        "\n",
        "# 12. Create a decorator that measures and prints the execution time of a function.\n"
      ],
      "metadata": {
        "id": "nMxA5rEDS74f"
      }
    },
    {
      "cell_type": "code",
      "source": [
        "import time\n",
        "\n",
        "def execution_time_decorator(func):\n",
        "    def wrapper(*args, **kwargs):\n",
        "        start_time = time.time()  # Record the start time\n",
        "        result = func(*args, **kwargs)  # Execute the wrapped function\n",
        "        end_time = time.time()  # Record the end time\n",
        "        execution_time = end_time - start_time  # Calculate the execution time\n",
        "        print(f\"Execution time of {func.__name__}: {execution_time:.6f} seconds\")\n",
        "        return result\n",
        "    return wrapper\n",
        "\n",
        "@execution_time_decorator\n",
        "def sample_function(n):\n",
        "    total = 0\n",
        "    for i in range(n):\n",
        "        total += i\n",
        "    return total\n",
        "\n",
        "result = sample_function(1000000)\n",
        "print(\"Result:\", result)\n"
      ],
      "metadata": {
        "colab": {
          "base_uri": "https://localhost:8080/"
        },
        "id": "m9Ray9F2X3xl",
        "outputId": "9ef7953c-b55f-4132-cb9a-90440bdb6b3a"
      },
      "execution_count": null,
      "outputs": [
        {
          "output_type": "stream",
          "name": "stdout",
          "text": [
            "Execution time of sample_function: 0.073595 seconds\n",
            "Result: 499999500000\n"
          ]
        }
      ]
    },
    {
      "cell_type": "markdown",
      "source": [
        "# 13. Explain the concept of the Diamond Problem in multiple inheritance. How does Python resolve it?\n"
      ],
      "metadata": {
        "id": "Vlqo8OyXTCLt"
      }
    },
    {
      "cell_type": "markdown",
      "source": [
        "The Diamond Problem is a common issue in object-oriented programming languages that support multiple inheritance. It occurs when a class inherits from two or more classes that share a common base class, forming a diamond-shaped inheritance structure."
      ],
      "metadata": {
        "id": "JVwJXLC0ank4"
      }
    },
    {
      "cell_type": "code",
      "source": [
        "# example:\n",
        "class A:\n",
        "    def method(self):\n",
        "        print(\"Method from class A\")\n",
        "\n",
        "class B(A):\n",
        "    def method(self):\n",
        "        print(\"Method from class B\")\n",
        "\n",
        "class C(A):\n",
        "    def method(self):\n",
        "        print(\"Method from class C\")\n",
        "\n",
        "class D(B, C):  # Multiple inheritance from B and C\n",
        "    pass\n",
        "\n",
        "d = D()\n",
        "d.method()  # Which method is called?\n",
        "\n"
      ],
      "metadata": {
        "colab": {
          "base_uri": "https://localhost:8080/"
        },
        "id": "DrCyZ-NyYHQ4",
        "outputId": "dc82a19a-fe6b-4f8f-8124-76a0d333602f"
      },
      "execution_count": null,
      "outputs": [
        {
          "output_type": "stream",
          "name": "stdout",
          "text": [
            "Method from class B\n"
          ]
        }
      ]
    },
    {
      "cell_type": "code",
      "source": [
        "   # the structure looks like this :\n",
        "      A\n",
        "     / \\\n",
        "    B   C\n",
        "     \\ /\n",
        "      D"
      ],
      "metadata": {
        "id": "sbqKLb9sa8IP"
      },
      "execution_count": null,
      "outputs": []
    },
    {
      "cell_type": "markdown",
      "source": [
        "How python resolves the Diamond Problem:\n",
        "Python used a method called Method Resolution Order (MRO) to resolve the Diamond Problem. The MRO determinest he order in which base classes are searched when executing a  method. Python uses the c3 linearixation algorithm to calculate the MRO,\n",
        "ensuring a consistent and preictable order of method resolution in cases of multiple inheritance."
      ],
      "metadata": {
        "id": "KDURFMrmbq5q"
      }
    },
    {
      "cell_type": "code",
      "source": [
        "# You can view the MRO of any class using the mro() or __mro__ method\n",
        "print(D.mro())"
      ],
      "metadata": {
        "colab": {
          "base_uri": "https://localhost:8080/"
        },
        "id": "0tfZKLZGce4H",
        "outputId": "aa31c366-aeab-4ed2-83a9-708b8172f70d"
      },
      "execution_count": null,
      "outputs": [
        {
          "output_type": "stream",
          "name": "stdout",
          "text": [
            "[<class '__main__.D'>, <class '__main__.B'>, <class '__main__.C'>, <class '__main__.A'>, <class 'object'>]\n"
          ]
        }
      ]
    },
    {
      "cell_type": "markdown",
      "source": [
        "#14. Write a class method that keeps track of the number of instances created from a class.\n"
      ],
      "metadata": {
        "id": "EcwdWgYtcrnu"
      }
    },
    {
      "cell_type": "code",
      "source": [
        "class InstanceCounter:\n",
        "    instance_count = 0\n",
        "\n",
        "    def __init__(self):\n",
        "        InstanceCounter.instance_count += 1\n",
        "\n",
        "    @classmethod\n",
        "    def get_instance_count(cls):\n",
        "        return cls.instance_count\n",
        "\n",
        "obj1 = InstanceCounter()\n",
        "obj2 = InstanceCounter()\n",
        "obj3 = InstanceCounter()\n",
        "\n",
        "print(f\"Number of instances created: {InstanceCounter.get_instance_count()}\")\n"
      ],
      "metadata": {
        "colab": {
          "base_uri": "https://localhost:8080/"
        },
        "id": "sSlPQ_VJdeu7",
        "outputId": "3718f169-b4c1-423c-813e-7979e43aed5f"
      },
      "execution_count": null,
      "outputs": [
        {
          "output_type": "stream",
          "name": "stdout",
          "text": [
            "Number of instances created: 3\n"
          ]
        }
      ]
    },
    {
      "cell_type": "markdown",
      "source": [
        "# 15. Implement a static method in a class that checks if a given year is a leap year"
      ],
      "metadata": {
        "id": "v6kgGN8CdxB2"
      }
    },
    {
      "cell_type": "code",
      "source": [
        "class Year:\n",
        "    @staticmethod\n",
        "    def is_leap_year(year):\n",
        "        if (year % 4 == 0 and year % 100 != 0) or (year % 400 == 0):\n",
        "            return True\n",
        "        else:\n",
        "            return False\n",
        "\n",
        "# Example usage:\n",
        "print(Year.is_leap_year(2024))\n",
        "print(Year.is_leap_year(2021))\n"
      ],
      "metadata": {
        "colab": {
          "base_uri": "https://localhost:8080/"
        },
        "id": "3pFn7aWJd6Wn",
        "outputId": "5feeb897-31c6-4f3c-8c67-16534b452e7a"
      },
      "execution_count": null,
      "outputs": [
        {
          "output_type": "stream",
          "name": "stdout",
          "text": [
            "True\n",
            "False\n"
          ]
        }
      ]
    }
  ]
}